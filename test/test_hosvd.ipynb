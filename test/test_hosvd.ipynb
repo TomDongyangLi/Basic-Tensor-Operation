{
 "cells": [
  {
   "cell_type": "code",
   "execution_count": 2,
   "metadata": {},
   "outputs": [],
   "source": [
    "import torch"
   ]
  },
  {
   "cell_type": "code",
   "execution_count": 3,
   "metadata": {},
   "outputs": [],
   "source": [
    "def TTSVD(X,r):\n",
    "  \n",
    "    d = X.shape\n",
    "    m = len(d)\n",
    "    \n",
    "\n",
    "    C = X\n",
    "    T = []\n",
    "    C = C.reshape(d[0], -1)\n",
    "    [U, S, V] = torch.linalg.svd(C,full_matrices=False)\n",
    "    T.append(U[:,:r[0]])\n",
    "    C = torch.diag(S[:r[0]])@V[:r[0],:]\n",
    "\n",
    "    \n",
    "    for i in range(1,m-1):\n",
    "        # unfold the temporary tensor into a matrix with size r_n-1In x I_n+1...I_N \n",
    "        C = C.reshape(int(d[i]*r[i]), -1)\n",
    "        # do the SVD for unfold C\n",
    "        [U, S, V] = torch.linalg.svd(C,full_matrices=False)\n",
    "        \n",
    "        T.append(U[:, :r[i+1]].reshape(r[i],d[i],r[i+1]))\n",
    "        # update the temporary tensor to matrix with size r_n x I_n+1...I_N\n",
    "        C = torch.diag(S[:r[i+1]])@V[:r[i+1],:]\n",
    "    \n",
    "    T.append(C)\n",
    "    \n",
    "    return T\n"
   ]
  },
  {
   "cell_type": "code",
   "execution_count": 4,
   "metadata": {},
   "outputs": [],
   "source": [
    "def TTSVD_2(X,r):\n",
    "    C = X\n",
    "    T_left = torch.ones(1)\n",
    "    d = X.shape\n",
    "    m = len(d)\n",
    "    T = []\n",
    "\n",
    "    d_prod = d[0]\n",
    "\n",
    "    for i in range(0,m-1):\n",
    "        T_i = C.reshape(d_prod,-1)\n",
    "        temp = (torch.kron(T_left,torch.eye(d[i])))\n",
    "        [U,S,V] = torch.linalg.svd(temp.T@T_i,full_matrices=False)\n",
    "        L = U[:,:r[i]]\n",
    "        if i == 0:\n",
    "            T.append(L.reshape(d[i],r[i]))\n",
    "        else:\n",
    "            T.append(L.reshape(r[i-1],d[i],-1))\n",
    "        T_left = temp@L\n",
    "        d_prod = d_prod*d[i+1]\n",
    "    \n",
    "    T_m_1 = C.reshape(int(d_prod/d[m-1]),-1)\n",
    "    T.append(T_left.T@T_m_1)\n",
    "\n",
    "    return T"
   ]
  },
  {
   "cell_type": "code",
   "execution_count": 16,
   "metadata": {},
   "outputs": [],
   "source": [
    "X = torch.randn(3,3,3)\n",
    "r = [2,2,2]\n"
   ]
  },
  {
   "cell_type": "code",
   "execution_count": 17,
   "metadata": {},
   "outputs": [
    {
     "name": "stdout",
     "output_type": "stream",
     "text": [
      "[tensor([[-0.2183,  0.8118],\n",
      "        [-0.4400, -0.5772],\n",
      "        [ 0.8710, -0.0882]]), tensor([[[-0.8501, -0.2848],\n",
      "         [ 0.1957, -0.6583],\n",
      "         [-0.3567,  0.2189]],\n",
      "\n",
      "        [[-0.0817, -0.0548],\n",
      "         [-0.0939,  0.6555],\n",
      "         [-0.3104, -0.0703]]]), tensor([[-0.0924,  1.3723,  2.2959],\n",
      "        [ 2.2821, -0.4781,  0.3776]])]\n"
     ]
    }
   ],
   "source": [
    "print(TTSVD(X,r))"
   ]
  },
  {
   "cell_type": "code",
   "execution_count": 19,
   "metadata": {},
   "outputs": [
    {
     "name": "stdout",
     "output_type": "stream",
     "text": [
      "[tensor([[-0.2183,  0.8118],\n",
      "        [-0.4400, -0.5772],\n",
      "        [ 0.8710, -0.0882]]), tensor([[[-0.8501, -0.2848],\n",
      "         [ 0.1957, -0.6583],\n",
      "         [-0.3567,  0.2189]],\n",
      "\n",
      "        [[-0.0817, -0.0548],\n",
      "         [-0.0939,  0.6555],\n",
      "         [-0.3104, -0.0703]]]), tensor([[-0.0924,  1.3723,  2.2959],\n",
      "        [ 2.2821, -0.4781,  0.3776]])]\n"
     ]
    }
   ],
   "source": [
    "print(TTSVD_2(X,[2,2]))"
   ]
  },
  {
   "cell_type": "code",
   "execution_count": null,
   "metadata": {},
   "outputs": [],
   "source": []
  }
 ],
 "metadata": {
  "kernelspec": {
   "display_name": ".venv",
   "language": "python",
   "name": "python3"
  },
  "language_info": {
   "codemirror_mode": {
    "name": "ipython",
    "version": 3
   },
   "file_extension": ".py",
   "mimetype": "text/x-python",
   "name": "python",
   "nbconvert_exporter": "python",
   "pygments_lexer": "ipython3",
   "version": "3.12.2"
  }
 },
 "nbformat": 4,
 "nbformat_minor": 2
}
