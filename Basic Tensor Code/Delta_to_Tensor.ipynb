{
 "cells": [
  {
   "cell_type": "code",
   "execution_count": 8,
   "metadata": {},
   "outputs": [],
   "source": [
    "import torch\n",
    "from Utils import data_generator, TT_delta_to_tensor,mu_orthogonalization"
   ]
  },
  {
   "cell_type": "code",
   "execution_count": 15,
   "metadata": {},
   "outputs": [],
   "source": [
    "d = 5                   # tensor orde\n",
    "I = 3                   # tensor dimension\n",
    "r = 2                   # choose tt-rank to be constant\n",
    "rank = [r] * (d - 1)    # tt-rank\n",
    "shape = [I] * d "
   ]
  },
  {
   "cell_type": "code",
   "execution_count": 16,
   "metadata": {},
   "outputs": [],
   "source": [
    "cores = data_generator(shape, rank)\n",
    "deltas = data_generator(shape, rank)"
   ]
  },
  {
   "cell_type": "code",
   "execution_count": 17,
   "metadata": {},
   "outputs": [],
   "source": [
    "tangent_core = TT_delta_to_tensor(cores, deltas)"
   ]
  },
  {
   "cell_type": "code",
   "execution_count": 18,
   "metadata": {},
   "outputs": [],
   "source": [
    "left = mu_orthogonalization(cores, d)\n",
    "right = mu_orthogonalization(cores, 0)"
   ]
  },
  {
   "cell_type": "code",
   "execution_count": 19,
   "metadata": {},
   "outputs": [
    {
     "name": "stdout",
     "output_type": "stream",
     "text": [
      "tensor([[ 0.3126,  0.1413,  0.0000,  0.0000],\n",
      "        [ 0.5119, -0.3220,  0.0000,  0.0000],\n",
      "        [ 0.5994, -1.4724, -0.0069, -0.4265],\n",
      "        [ 0.4887,  0.5072, -0.3380,  0.6408]])\n"
     ]
    }
   ],
   "source": [
    "print(tangent_core[1][:,1,:])"
   ]
  },
  {
   "cell_type": "code",
   "execution_count": 21,
   "metadata": {},
   "outputs": [
    {
     "name": "stdout",
     "output_type": "stream",
     "text": [
      "tensor([[ 0.5994, -1.4724],\n",
      "        [ 0.4887,  0.5072]])\n",
      "tensor([[-0.0069, -0.4265],\n",
      "        [-0.3380,  0.6408]])\n",
      "tensor([[ 0.3126,  0.1413],\n",
      "        [ 0.5119, -0.3220]])\n"
     ]
    }
   ],
   "source": [
    "print(deltas[1][:,1,:])\n",
    "print(left[1][:,1,:])\n",
    "print(right[1][:,1,:])"
   ]
  },
  {
   "cell_type": "code",
   "execution_count": null,
   "metadata": {},
   "outputs": [],
   "source": []
  }
 ],
 "metadata": {
  "kernelspec": {
   "display_name": ".venv",
   "language": "python",
   "name": "python3"
  },
  "language_info": {
   "codemirror_mode": {
    "name": "ipython",
    "version": 3
   },
   "file_extension": ".py",
   "mimetype": "text/x-python",
   "name": "python",
   "nbconvert_exporter": "python",
   "pygments_lexer": "ipython3",
   "version": "3.12.2"
  }
 },
 "nbformat": 4,
 "nbformat_minor": 2
}
