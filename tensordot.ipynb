{
 "cells": [
  {
   "cell_type": "code",
   "execution_count": 1,
   "metadata": {},
   "outputs": [],
   "source": [
    "import torch"
   ]
  },
  {
   "cell_type": "code",
   "execution_count": 2,
   "metadata": {},
   "outputs": [],
   "source": [
    "A = torch.randn(2,3,2)\n",
    "B = torch.randn(2,5)"
   ]
  },
  {
   "cell_type": "code",
   "execution_count": 3,
   "metadata": {},
   "outputs": [
    {
     "data": {
      "text/plain": [
       "tensor([[[ 0.0870, -1.6943,  0.6236, -0.3910,  0.2209],\n",
       "         [-0.2117, -1.1128,  0.8253, -1.1409,  0.9542],\n",
       "         [-0.5266,  2.8576, -0.4644, -0.5896,  0.7706]],\n",
       "\n",
       "        [[-0.0934, -1.2482,  0.7031, -0.8062,  0.6370],\n",
       "         [ 0.2237, -0.0203, -0.3368,  0.7275, -0.6675],\n",
       "         [-0.0472, -3.6094,  1.6881, -1.5978,  1.1705]]])"
      ]
     },
     "execution_count": 3,
     "metadata": {},
     "output_type": "execute_result"
    }
   ],
   "source": [
    "torch.tensordot(A,B, dims=([-1],[0]))"
   ]
  },
  {
   "cell_type": "code",
   "execution_count": 4,
   "metadata": {},
   "outputs": [
    {
     "data": {
      "text/plain": [
       "tensor([[[ 0.0870, -1.6943,  0.6236, -0.3910,  0.2209],\n",
       "         [-0.2117, -1.1128,  0.8253, -1.1409,  0.9542],\n",
       "         [-0.5266,  2.8576, -0.4644, -0.5896,  0.7706]],\n",
       "\n",
       "        [[-0.0934, -1.2482,  0.7031, -0.8062,  0.6370],\n",
       "         [ 0.2237, -0.0203, -0.3368,  0.7275, -0.6675],\n",
       "         [-0.0472, -3.6094,  1.6881, -1.5978,  1.1705]]])"
      ]
     },
     "execution_count": 4,
     "metadata": {},
     "output_type": "execute_result"
    }
   ],
   "source": [
    "torch.tensordot(A,B.T, dims=([-1],[1]))"
   ]
  },
  {
   "cell_type": "code",
   "execution_count": null,
   "metadata": {},
   "outputs": [],
   "source": []
  }
 ],
 "metadata": {
  "kernelspec": {
   "display_name": ".venv",
   "language": "python",
   "name": "python3"
  },
  "language_info": {
   "codemirror_mode": {
    "name": "ipython",
    "version": 3
   },
   "file_extension": ".py",
   "mimetype": "text/x-python",
   "name": "python",
   "nbconvert_exporter": "python",
   "pygments_lexer": "ipython3",
   "version": "3.12.2"
  }
 },
 "nbformat": 4,
 "nbformat_minor": 2
}
