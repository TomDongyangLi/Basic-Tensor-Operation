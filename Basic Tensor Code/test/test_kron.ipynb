{
 "cells": [
  {
   "cell_type": "code",
   "execution_count": 1,
   "metadata": {},
   "outputs": [],
   "source": [
    "import torch"
   ]
  },
  {
   "cell_type": "markdown",
   "metadata": {},
   "source": [
    "# Becareful with the order of U_i for kronecker product, it's different with the one in paper due to the reshape function in python"
   ]
  },
  {
   "cell_type": "code",
   "execution_count": null,
   "metadata": {},
   "outputs": [],
   "source": [
    "A = torch.rand(3,3,3,3,3)\n",
    "\n",
    "A_1 = torch.moveaxis(A, 0, 0).reshape(A.shape[0],-1)\n",
    "A_2 = torch.moveaxis(A, 1, 0).reshape(A.shape[1],-1)\n",
    "A_3 = torch.moveaxis(A, 2, 0).reshape(A.shape[2],-1)\n",
    "A_4 = torch.moveaxis(A, 3, 0).reshape(A.shape[3],-1)\n",
    "A_5 = torch.moveaxis(A, 4, 0).reshape(A.shape[4],-1)\n",
    "\n",
    "[U_1,_,_] = torch.linalg.svd(A_1,full_matrices=False)\n",
    "U_1 = U_1[:, :r]\n",
    "\n",
    "[U_2,_,_] = torch.linalg.svd(A_2,full_matrices=False)\n",
    "U_2 = U_2[:, :r]\n",
    "\n",
    "[U_3,_,_] = torch.linalg.svd(A_3,full_matrices=False)\n",
    "U_3 = U_3[:, :r]\n",
    "\n",
    "[U_4,_,_] = torch.linalg.svd(A_4,full_matrices=False)\n",
    "U_4 = U_4[:, :r]\n",
    "\n",
    "[U_5,_,_] = torch.linalg.svd(A_5,full_matrices=False)\n",
    "U_5 = U_5[:, :r]\n",
    "\n",
    "C_1 = U_1.T@A_1@(torch.kron(torch.kron(torch.kron(U_2.T,U_3.T),U_4.T),U_5.T)).T\n",
    "C_hat_1 = torch.moveaxis(C_1.reshape([2 for _ in range(5)]),0,0)\n",
    "\n",
    "\n",
    "C_2 = U_2.T@A_2@(torch.kron(torch.kron(torch.kron(U_1.T,U_3.T),U_4.T),U_5.T)).T\n",
    "C_hat_2 = torch.moveaxis(C_2.reshape([2 for _ in range(5)]),0,1)\n",
    "\n",
    "\n",
    "C_3 = U_3.T@A_3@(torch.kron(torch.kron(torch.kron(U_1.T,U_2.T),U_4.T),U_5.T)).T\n",
    "C_hat_3 = torch.moveaxis(C_3.reshape([2 for _ in range(5)]),0,2)\n",
    "\n",
    "C_4 = U_4.T@A_4@(torch.kron(torch.kron(torch.kron(U_1.T,U_2.T),U_3.T),U_5.T)).T\n",
    "C_hat_4 = torch.moveaxis(C_4.reshape([2 for _ in range(5)]),0,3)\n",
    "\n",
    "C_5 = U_5.T@A_5@(torch.kron(torch.kron(torch.kron(U_1.T,U_2.T),U_3.T),U_4.T)).T\n",
    "C_hat_5 = torch.moveaxis(C_5.reshape([2 for _ in range(5)]),0,4)\n",
    "\n"
   ]
  }
 ],
 "metadata": {
  "kernelspec": {
   "display_name": ".venv",
   "language": "python",
   "name": "python3"
  },
  "language_info": {
   "codemirror_mode": {
    "name": "ipython",
    "version": 3
   },
   "file_extension": ".py",
   "mimetype": "text/x-python",
   "name": "python",
   "nbconvert_exporter": "python",
   "pygments_lexer": "ipython3",
   "version": "3.12.2"
  }
 },
 "nbformat": 4,
 "nbformat_minor": 2
}
