{
 "cells": [
  {
   "cell_type": "code",
   "execution_count": 1,
   "metadata": {},
   "outputs": [],
   "source": [
    "import torch\n",
    "import tensorly as tl\n",
    "from tensorly.decomposition import tensor_train\n",
    "from Utils import TTSVD,TT_to_tensor\n",
    "import time\n",
    "import pandas as pd"
   ]
  },
  {
   "cell_type": "code",
   "execution_count": 2,
   "metadata": {},
   "outputs": [],
   "source": [
    "tl.set_backend('pytorch')"
   ]
  },
  {
   "cell_type": "markdown",
   "metadata": {},
   "source": [
    "### Basic Setup of the tensor and the decomposition"
   ]
  },
  {
   "cell_type": "code",
   "execution_count": 3,
   "metadata": {},
   "outputs": [],
   "source": [
    "d = 4                   # tensor orde\n",
    "I = 100                # tensor dimension\n",
    "r = 2                   # choose tt-rank to be constant\n",
    "rank = [r] * (d - 1)    # tt-rank\n",
    "shape = [I] * d        # tensor shape"
   ]
  },
  {
   "cell_type": "code",
   "execution_count": 4,
   "metadata": {},
   "outputs": [],
   "source": [
    "X = torch.randn(shape)"
   ]
  },
  {
   "cell_type": "markdown",
   "metadata": {},
   "source": [
    "### Compare the speed of the decomposition"
   ]
  },
  {
   "cell_type": "code",
   "execution_count": 5,
   "metadata": {},
   "outputs": [
    {
     "name": "stdout",
     "output_type": "stream",
     "text": [
      "MyCode costs: 9.791947841644287 s\n",
      "Tensorly costs: 9.547675848007202 s\n"
     ]
    }
   ],
   "source": [
    "time_start = time.time()\n",
    "X_core = TTSVD(X, rank)\n",
    "print('MyCode costs:', time.time() - time_start, 's')\n",
    "\n",
    "time_start = time.time()\n",
    "factors = tensor_train(X, rank=[1] + rank + [1])\n",
    "print('Tensorly costs:', time.time() - time_start, 's')"
   ]
  },
  {
   "cell_type": "markdown",
   "metadata": {},
   "source": [
    "### Compare the shape of the cores"
   ]
  },
  {
   "cell_type": "code",
   "execution_count": 6,
   "metadata": {},
   "outputs": [
    {
     "name": "stdout",
     "output_type": "stream",
     "text": [
      "     Method          Dtype Core 1 Shape Core 2 Shape Core 3 Shape Core 4 Shape\n",
      "0    MyCode  torch.float32     (100, 2)  (2, 100, 2)  (2, 100, 2)     (2, 100)\n",
      "1  Tensorly  torch.float32  (1, 100, 2)  (2, 100, 2)  (2, 100, 2)  (2, 100, 1)\n"
     ]
    }
   ],
   "source": [
    "# Function to add core shapes and datatype to the data dictionary\n",
    "def add_core_shapes(data, method_name, cores):\n",
    "    data['Method'].append(method_name)\n",
    "    for i, core in enumerate(cores):\n",
    "        core_key_shape = f'Core {i+1} Shape'\n",
    "        if core_key_shape in data:\n",
    "            data[core_key_shape].append(core.shape)\n",
    "        else:\n",
    "            data[core_key_shape] = [None] * (len(data['Method']) - 1) + [core.shape]\n",
    "    data['Dtype'].append(cores[0].dtype)\n",
    "\n",
    "# Prepare data for the table\n",
    "data = {'Method': [], 'Dtype': []}\n",
    "\n",
    "# Add core shapes and datatype for MyCode\n",
    "add_core_shapes(data, 'MyCode', X_core)\n",
    "\n",
    "# Add core shapes and datatype for Tensorly\n",
    "add_core_shapes(data, 'Tensorly', factors)\n",
    "\n",
    "# Create DataFrame\n",
    "df_cores_dtypes = pd.DataFrame(data)\n",
    "\n",
    "# Display the table\n",
    "print(df_cores_dtypes)"
   ]
  },
  {
   "cell_type": "markdown",
   "metadata": {},
   "source": [
    "### Compare the Reconstruction error"
   ]
  },
  {
   "cell_type": "code",
   "execution_count": 7,
   "metadata": {},
   "outputs": [
    {
     "name": "stdout",
     "output_type": "stream",
     "text": [
      "Reconstruction (MyCode) costs: 0.08341097831726074 s\n",
      "Reconstruction (Tensorly) costs: 0.053153038024902344 s\n",
      "Reconstruction error (MyCode): 0.9999934434890747\n",
      "Reconstruction error (Tensorly): 0.9999935626983643\n"
     ]
    }
   ],
   "source": [
    "# Reconstruct the tensor from the decomposed factors using TTSVD\n",
    "time_start = time.time()\n",
    "X_reconstructed_mycode = TT_to_tensor(rank,X_core)\n",
    "print('Reconstruction (MyCode) costs:', time.time() - time_start, 's')\n",
    "\n",
    "# Reconstruct the tensor from the decomposed factors using tensorly\n",
    "time_start = time.time()\n",
    "X_reconstructed_tensorly = tl.tt_to_tensor(factors)\n",
    "print('Reconstruction (Tensorly) costs:', time.time() - time_start, 's')\n",
    "\n",
    "# Compute the reconstruction error\n",
    "error_mycode = torch.norm(X - X_reconstructed_mycode) / torch.norm(X)\n",
    "error_tensorly = torch.norm(X - X_reconstructed_tensorly) / torch.norm(X)\n",
    "\n",
    "print('Reconstruction error (MyCode):', error_mycode.item())\n",
    "print('Reconstruction error (Tensorly):', error_tensorly.item())\n"
   ]
  },
  {
   "cell_type": "markdown",
   "metadata": {},
   "source": [
    "reconstruction error not close to zero since the original tensor $X$ is not on manifold with the given rank "
   ]
  },
  {
   "cell_type": "markdown",
   "metadata": {},
   "source": []
  }
 ],
 "metadata": {
  "kernelspec": {
   "display_name": ".venv",
   "language": "python",
   "name": "python3"
  },
  "language_info": {
   "codemirror_mode": {
    "name": "ipython",
    "version": 3
   },
   "file_extension": ".py",
   "mimetype": "text/x-python",
   "name": "python",
   "nbconvert_exporter": "python",
   "pygments_lexer": "ipython3",
   "version": "3.12.2"
  }
 },
 "nbformat": 4,
 "nbformat_minor": 2
}
