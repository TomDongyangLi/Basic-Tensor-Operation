{
 "cells": [
  {
   "cell_type": "code",
   "execution_count": 1,
   "metadata": {},
   "outputs": [],
   "source": [
    "import torch\n",
    "from Utils import data_generator,mu_orthogonalization"
   ]
  },
  {
   "cell_type": "code",
   "execution_count": 2,
   "metadata": {},
   "outputs": [],
   "source": [
    "torch.set_default_dtype(torch.float32)"
   ]
  },
  {
   "cell_type": "code",
   "execution_count": 3,
   "metadata": {},
   "outputs": [],
   "source": [
    "d = 5                   # tensor orde\n",
    "I = 5               # tensor dimension\n",
    "r = 2                   # choose tt-rank to be constant\n",
    "rank = [r] * (d - 1)    # tt-rank\n",
    "shape = [I] * d "
   ]
  },
  {
   "cell_type": "code",
   "execution_count": 4,
   "metadata": {},
   "outputs": [],
   "source": [
    "cores = data_generator(shape, rank)\n",
    "left_cores = mu_orthogonalization(cores, d)\n",
    "right_cores = mu_orthogonalization(cores, 0)"
   ]
  },
  {
   "cell_type": "code",
   "execution_count": 5,
   "metadata": {},
   "outputs": [
    {
     "name": "stdout",
     "output_type": "stream",
     "text": [
      "tensor([[ 1.0000e+00, -3.8364e-08],\n",
      "        [-3.8364e-08,  1.0000e+00]])\n",
      "True\n",
      "tensor([[ 1.0000e+00, -3.0205e-08],\n",
      "        [-3.0205e-08,  1.0000e+00]])\n",
      "True\n",
      "tensor([[1.0000e+00, 9.9180e-09],\n",
      "        [9.9180e-09, 1.0000e+00]])\n",
      "True\n",
      "tensor([[ 1.0000e+00, -2.8156e-08],\n",
      "        [-2.8156e-08,  1.0000e+00]])\n",
      "True\n",
      "tensor([[ 1.0000e+00, -2.7767e-10],\n",
      "        [-2.7767e-10,  1.0000e+00]])\n",
      "True\n",
      "tensor([[1.0000e+00, 2.4546e-08],\n",
      "        [2.4546e-08, 1.0000e+00]])\n",
      "True\n"
     ]
    }
   ],
   "source": [
    "for i in range(1, d-1):\n",
    "    check_core_left = left_cores[i].reshape(-1,left_cores[i].shape[-1])\n",
    "    print(torch.matmul(check_core_left.T, check_core_left))\n",
    "    print(torch.allclose(torch.matmul(check_core_left.T, check_core_left), torch.eye(check_core_left.shape[-1]), atol=1e-7))\n",
    "    check_core_right = right_cores[i].reshape(right_cores[i].shape[0],-1)\n",
    "    print(torch.matmul(check_core_right, check_core_right.T))\n",
    "    print(torch.allclose(torch.matmul(check_core_right, check_core_right.T), torch.eye(check_core_right.shape[0]), atol=1e-7))\n"
   ]
  },
  {
   "cell_type": "code",
   "execution_count": 6,
   "metadata": {},
   "outputs": [],
   "source": [
    "from Utils import TT_to_tensor"
   ]
  },
  {
   "cell_type": "code",
   "execution_count": 7,
   "metadata": {},
   "outputs": [],
   "source": [
    "X = TT_to_tensor(rank, cores)\n",
    "X_left = TT_to_tensor(rank,left_cores)\n",
    "X_right = TT_to_tensor(rank,right_cores)"
   ]
  },
  {
   "cell_type": "code",
   "execution_count": 8,
   "metadata": {},
   "outputs": [
    {
     "name": "stdout",
     "output_type": "stream",
     "text": [
      "tensor(1.9730e-07)\n",
      "tensor(1.9760e-07)\n"
     ]
    }
   ],
   "source": [
    "print(torch.norm(X - X_left)/torch.norm(X))\n",
    "print(torch.norm(X - X_right)/torch.norm(X))"
   ]
  },
  {
   "cell_type": "code",
   "execution_count": null,
   "metadata": {},
   "outputs": [],
   "source": []
  }
 ],
 "metadata": {
  "kernelspec": {
   "display_name": ".venv",
   "language": "python",
   "name": "python3"
  },
  "language_info": {
   "codemirror_mode": {
    "name": "ipython",
    "version": 3
   },
   "file_extension": ".py",
   "mimetype": "text/x-python",
   "name": "python",
   "nbconvert_exporter": "python",
   "pygments_lexer": "ipython3",
   "version": "3.12.2"
  }
 },
 "nbformat": 4,
 "nbformat_minor": 2
}
